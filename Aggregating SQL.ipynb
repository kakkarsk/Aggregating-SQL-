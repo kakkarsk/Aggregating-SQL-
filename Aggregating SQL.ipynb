{
 "cells": [
  {
   "cell_type": "markdown",
   "metadata": {},
   "source": [
    "1: What was the hottest day in our data set? Where was that?\n",
    "\n",
    "SELECT\n",
    "    date,\n",
    "\tZIP,\n",
    "\tMAX(MaxTemperatureF) MaxTemperatureF\n",
    "FROM\n",
    "    weather\n",
    "\t\n",
    "GROUP BY date,ZIP;\n",
    "\n",
    "Output : \"2015-11-17\"\t\"94063\"\t\"134\"\n",
    "\n",
    "2:How many trips started at each station?\n",
    "\n",
    "SELECT\n",
    "    start_station,\n",
    "    COUNT(*) AS trip_count\n",
    "\n",
    "FROM\n",
    "   trips\n",
    "\n",
    "GROUP BY 1\n",
    "\n",
    "Output: There were 80 unique stations, and the number of trips per station ranges from 1 to 23,591.\n",
    "\n",
    "3:What's the shortest trip that happened?\n",
    "\n",
    "SELECT\n",
    "    MIN(duration) AS shortest_trip\n",
    "FROM\n",
    "    trips\n",
    "    \n",
    " Output: The shortest trip duration is 60 seconds\n",
    " \n",
    " \n",
    " 4:What is the average trip duration, by end station?\n",
    " \n",
    " SELECT\n",
    "    end_station,\n",
    "    AVG(duration) as average_duration\n",
    "FROM\n",
    "    trips\n",
    "GROUP BY 1\n",
    "\n",
    "Output:The average trip duration, aggregated by end station, ranges from 257 to 4710.9.\n"
   ]
  }
 ],
 "metadata": {
  "kernelspec": {
   "display_name": "Python 3",
   "language": "python",
   "name": "python3"
  },
  "language_info": {
   "codemirror_mode": {
    "name": "ipython",
    "version": 3
   },
   "file_extension": ".py",
   "mimetype": "text/x-python",
   "name": "python",
   "nbconvert_exporter": "python",
   "pygments_lexer": "ipython3",
   "version": "3.6.5"
  }
 },
 "nbformat": 4,
 "nbformat_minor": 2
}
